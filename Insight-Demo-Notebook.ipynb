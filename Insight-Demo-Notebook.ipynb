{
 "cells": [
  {
   "cell_type": "code",
   "execution_count": null,
   "metadata": {
    "collapsed": false
   },
   "outputs": [],
   "source": [
    "import numpy as np\n",
    "import pandas as pd\n",
    "\n",
    "from matplotlib import pyplot as plt\n",
    "from matplotlib.collections import LineCollection\n",
    "import matplotlib.image as mpimg\n",
    "import matplotlib.animation as animation\n",
    "\n",
    "from sklearn import manifold\n",
    "from sklearn.metrics import euclidean_distances\n",
    "from sklearn.decomposition import PCA\n",
    "\n",
    "import seaborn as sns\n",
    "import time\n",
    "\n",
    "import figures"
   ]
  },
  {
   "cell_type": "markdown",
   "metadata": {},
   "source": [
    "# Trade Matrix Calculated From UN COMTRADE Dataset\n",
    "\n",
    "The matrices calculated here are created from the publicly available data from UN Comtrade dataset (2001-2009) and Feenstra Dataset (1962-2000). I have collected data on the types of products that are traded between a sample of 70 countries between years 1962 and 2009.\n",
    "\n",
    "These datasets use Standardized International Trade Codes (SITC), which are used for classify types of goods that are globally traded. SITC codes consist of 4 Digits. Each digit determines a more specific category from left to right. For example: \n",
    "* 1 - Beverages and Tobacco \n",
    "    * 11 - Beverages\n",
    "        * 112 - Alcoholic beverages\n",
    "            * 112.3 - Beer made from malt (including ale, stout, and porter)\n",
    "\n",
    "Below is a list of the top level codes:\n",
    "0. Food and live animals\n",
    "1. Beverages and tobacco\n",
    "2. Crude materials, inedible, except fuels\n",
    "3. Mineral, fuels, lubricants and related materials\n",
    "4. Animal and vegetable oils, fats and waxes\n",
    "5. Chemicals and related products, n.e.s.\n",
    "6. Manufactured goods classified chiefly by material\n",
    "7. Machinery and transport equipment\n",
    "8. Miscellaeous manufactured articles\n",
    "9. Commodities and transactions not classified elsewhere\n",
    "\n",
    "You can find more information regarding SITC Classifications registry at http://unstats.un.org/unsd/cr/registry/regcst.asp?Cl=14\n",
    "\n",
    "Below is an excerpt from all the data I have concatenated together from these sources"
   ]
  },
  {
   "cell_type": "code",
   "execution_count": null,
   "metadata": {
    "collapsed": false
   },
   "outputs": [],
   "source": [
    "products_trade = pd.read_csv('data/sitc.csv')\n",
    "products_trade"
   ]
  },
  {
   "cell_type": "markdown",
   "metadata": {},
   "source": [
    "Using this dataset I have created role equivalence measure that is previously used in the sociology and management literature. This measure calculates the similarities between nodes in a network by considering the correlations of valued ties. \n",
    "\n",
    "To calculate this measure I have first calculated an export product category share vector (EPSV) and an import product category share vector (IPSV) using the formulas below:\n",
    "\n",
    "### $EPSV_{it} = \\frac{exports_{ikt}}{\\sum exports_{ikt}}$\n",
    "### $IPSV_{it} = \\frac{imports_{ikt}}{\\sum imports_{ikt}}$\n",
    "\n",
    "I concatenated these two vectors to get a product share vector (PSV) and finally I created a trade matrix based on the correlations of product share vectors for each country.\n",
    "\n",
    "## Role Equivalence in Trade Matrices for each year:\n",
    "\n",
    "### $r(PSV_{it}, PSV_{jt})$\n",
    "\n",
    "Below is the symmetric trade matrix for 1962 where each cell reports for the correlation on the type of products trade between each pair of countries:"
   ]
  },
  {
   "cell_type": "code",
   "execution_count": null,
   "metadata": {
    "collapsed": false
   },
   "outputs": [],
   "source": [
    "tradeyear1962 = pd.read_csv('data/1962_rev.csv')\n",
    "tradeyear1962.ix[:, 2:]"
   ]
  },
  {
   "cell_type": "code",
   "execution_count": null,
   "metadata": {
    "collapsed": false
   },
   "outputs": [],
   "source": [
    "mat = np.array(tradeyear1962.ix[:, 2:])\n",
    "mat"
   ]
  },
  {
   "cell_type": "markdown",
   "metadata": {},
   "source": [
    "Below is a dataset from other variables I have collected in my research regarding crises of sovereignty. In this case I have observations regarding the number of revolutionary situations experienced in a country reported by New York Times. This data comes from Banks' Cross National Time Series Dataset. "
   ]
  },
  {
   "cell_type": "code",
   "execution_count": null,
   "metadata": {
    "collapsed": false
   },
   "outputs": [],
   "source": [
    "attributevectors1962 = pd.read_csv('data/1962_rev_vector.csv')\n",
    "attributevectors1962"
   ]
  },
  {
   "cell_type": "code",
   "execution_count": null,
   "metadata": {
    "collapsed": false
   },
   "outputs": [],
   "source": [
    "rev = np.array(attributevectors1962.ix[:, -1:])\n",
    "countries = np.array(attributevectors1962.ix[:, 1:2])\n",
    "countries"
   ]
  },
  {
   "cell_type": "markdown",
   "metadata": {},
   "source": [
    "To visualize this data in a meaningful way, I have used the manifold learning algorithms for metric multidimensional scaling from scikit-learn module in Python. Multidimensional scaling allows a two dimensional representation of the data by respecting the original distances of the high-dimensional space. In this case for my graphs, countries that have a higher correlation of trade products (stronger ties) are represented closer to each other. Countries that have a lower correlation are farther apart from each other. This is a nice way of visually representing this data because for my work my hypothesis that countries that have higher similarities in their trade behavior are more likely to experience crises in similar time periods"
   ]
  },
  {
   "cell_type": "code",
   "execution_count": null,
   "metadata": {
    "collapsed": false
   },
   "outputs": [],
   "source": [
    "mds = manifold.MDS(n_components=2, dissimilarity=\"precomputed\", random_state=2)\n",
    "mds"
   ]
  },
  {
   "cell_type": "markdown",
   "metadata": {},
   "source": [
    "Below is the coordinates for the countries calculated for 1962:"
   ]
  },
  {
   "cell_type": "code",
   "execution_count": null,
   "metadata": {
    "collapsed": false
   },
   "outputs": [],
   "source": [
    "results = mds.fit_transform(mat)\n",
    "results"
   ]
  },
  {
   "cell_type": "markdown",
   "metadata": {},
   "source": [
    "Using matplotlib I created the figure below. In the figure, I color coded the countries that experienced a revolutionary situation with black dots. Other countries have white dots. I expect black dots to be in general closer to each other. I also expect that in the following year, the countries that are close to black dots should be more likely to experience a revolutionary situation "
   ]
  },
  {
   "cell_type": "code",
   "execution_count": null,
   "metadata": {
    "collapsed": false
   },
   "outputs": [],
   "source": [
    "fig = plt.figure(figsize=(28.0,16.5))\n",
    "fig.suptitle('Revolutionary Situations in 1962', fontsize=14, fontweight='bold')\n",
    "\n",
    "\n",
    "plt.subplots_adjust(bottom = 0.1)\n",
    "\n",
    "plt.scatter(\n",
    "    results[:, 0], results[:, 1], marker = 'o', c=rev\n",
    "    )\n",
    "\n",
    "\n",
    "for label, x, y, in zip(countries, results[:, 0], results[:, 1]):\n",
    "    plt.annotate(\n",
    "    label,\n",
    "    xy = (x, y), xytext = (-20, 20),\n",
    "    textcoords = 'offset points', ha = 'right', va='bottom',\n",
    "    bbox = dict(boxstyle = 'round,pad=0.5', fc = 'yellow', alpha = 0.5),\n",
    "    arrowprops = dict(arrowstyle = '->', connectionstyle = 'arc3,rad=0'))\n",
    "\n",
    "leg = plt.legend(('Revolutions', 'Stable'), loc = 'lower right', frameon=True)    \n",
    "leg.get_frame().set_edgecolor('b')\n",
    "plt.show()"
   ]
  },
  {
   "cell_type": "markdown",
   "metadata": {},
   "source": [
    "Elsewhere I have written a program that has functions to automate the commands I have used above. With the loop below I have generated a plot for each year in my dataset"
   ]
  },
  {
   "cell_type": "code",
   "execution_count": null,
   "metadata": {
    "collapsed": false
   },
   "outputs": [],
   "source": [
    "year = 1962\n",
    "while year<2010:\n",
    "    numbers = figures.inputs('data/'+str(year)+'_rev.csv', 'data/'+str(year)+'_rev_vector.csv')\n",
    "    coor = figures.mdscoordinates(numbers['matrix'])\n",
    "    figures.mdsfigure(coor, year, numbers['behavior'], numbers['country names'])\n",
    "    year+=1\n",
    "#    plt.pause(0.5)\n",
    "    plt.close('all')"
   ]
  },
  {
   "cell_type": "markdown",
   "metadata": {},
   "source": [
    "Below is a plot that displays how countries move across the graph from 1962 to 2009:"
   ]
  },
  {
   "cell_type": "code",
   "execution_count": null,
   "metadata": {
    "collapsed": false,
    "scrolled": true
   },
   "outputs": [],
   "source": [
    "year = 1962\n",
    "while year<2010:\n",
    "    plt.figure(figsize=(28.0, 16.5))\n",
    "    img=mpimg.imread('images/'+str(year)+'.png')\n",
    "    imgplot = plt.imshow(img)\n",
    "    year+=1\n",
    "    plt.pause(1)\n",
    "    plt.close('all')"
   ]
  },
  {
   "cell_type": "code",
   "execution_count": null,
   "metadata": {
    "collapsed": true
   },
   "outputs": [],
   "source": []
  }
 ],
 "metadata": {
  "kernelspec": {
   "display_name": "Python 2",
   "language": "python",
   "name": "python2"
  },
  "language_info": {
   "codemirror_mode": {
    "name": "ipython",
    "version": 2
   },
   "file_extension": ".py",
   "mimetype": "text/x-python",
   "name": "python",
   "nbconvert_exporter": "python",
   "pygments_lexer": "ipython2",
   "version": "2.7.11"
  }
 },
 "nbformat": 4,
 "nbformat_minor": 0
}
